{
 "cells": [
  {
   "cell_type": "code",
   "execution_count": 33,
   "id": "f4ad7132-0bb1-4644-b26c-3d6a6fb89159",
   "metadata": {},
   "outputs": [],
   "source": [
    "import pandas as pd\n",
    "import numpy as np\n",
    "import matplotlib.pyplot as plt\n",
    "import seaborn as sns"
   ]
  },
  {
   "cell_type": "code",
   "execution_count": 34,
   "id": "f6223d40-e386-4bc2-89f7-0452a52ba49c",
   "metadata": {},
   "outputs": [
    {
     "data": {
      "text/html": [
       "<div>\n",
       "<style scoped>\n",
       "    .dataframe tbody tr th:only-of-type {\n",
       "        vertical-align: middle;\n",
       "    }\n",
       "\n",
       "    .dataframe tbody tr th {\n",
       "        vertical-align: top;\n",
       "    }\n",
       "\n",
       "    .dataframe thead th {\n",
       "        text-align: right;\n",
       "    }\n",
       "</style>\n",
       "<table border=\"1\" class=\"dataframe\">\n",
       "  <thead>\n",
       "    <tr style=\"text-align: right;\">\n",
       "      <th></th>\n",
       "      <th>long_hair</th>\n",
       "      <th>forehead_width_cm</th>\n",
       "      <th>forehead_height_cm</th>\n",
       "      <th>nose_wide</th>\n",
       "      <th>nose_long</th>\n",
       "      <th>lips_thin</th>\n",
       "      <th>distance_nose_to_lip_long</th>\n",
       "      <th>gender</th>\n",
       "    </tr>\n",
       "  </thead>\n",
       "  <tbody>\n",
       "    <tr>\n",
       "      <th>0</th>\n",
       "      <td>1</td>\n",
       "      <td>11.8</td>\n",
       "      <td>6.1</td>\n",
       "      <td>1</td>\n",
       "      <td>0</td>\n",
       "      <td>1</td>\n",
       "      <td>1</td>\n",
       "      <td>Male</td>\n",
       "    </tr>\n",
       "    <tr>\n",
       "      <th>1</th>\n",
       "      <td>0</td>\n",
       "      <td>14.0</td>\n",
       "      <td>5.4</td>\n",
       "      <td>0</td>\n",
       "      <td>0</td>\n",
       "      <td>1</td>\n",
       "      <td>0</td>\n",
       "      <td>Female</td>\n",
       "    </tr>\n",
       "    <tr>\n",
       "      <th>2</th>\n",
       "      <td>0</td>\n",
       "      <td>11.8</td>\n",
       "      <td>6.3</td>\n",
       "      <td>1</td>\n",
       "      <td>1</td>\n",
       "      <td>1</td>\n",
       "      <td>1</td>\n",
       "      <td>Male</td>\n",
       "    </tr>\n",
       "    <tr>\n",
       "      <th>3</th>\n",
       "      <td>0</td>\n",
       "      <td>14.4</td>\n",
       "      <td>6.1</td>\n",
       "      <td>0</td>\n",
       "      <td>1</td>\n",
       "      <td>1</td>\n",
       "      <td>1</td>\n",
       "      <td>Male</td>\n",
       "    </tr>\n",
       "    <tr>\n",
       "      <th>4</th>\n",
       "      <td>1</td>\n",
       "      <td>13.5</td>\n",
       "      <td>5.9</td>\n",
       "      <td>0</td>\n",
       "      <td>0</td>\n",
       "      <td>0</td>\n",
       "      <td>0</td>\n",
       "      <td>Female</td>\n",
       "    </tr>\n",
       "  </tbody>\n",
       "</table>\n",
       "</div>"
      ],
      "text/plain": [
       "   long_hair  forehead_width_cm  forehead_height_cm  nose_wide  nose_long  \\\n",
       "0          1               11.8                 6.1          1          0   \n",
       "1          0               14.0                 5.4          0          0   \n",
       "2          0               11.8                 6.3          1          1   \n",
       "3          0               14.4                 6.1          0          1   \n",
       "4          1               13.5                 5.9          0          0   \n",
       "\n",
       "   lips_thin  distance_nose_to_lip_long  gender  \n",
       "0          1                          1    Male  \n",
       "1          1                          0  Female  \n",
       "2          1                          1    Male  \n",
       "3          1                          1    Male  \n",
       "4          0                          0  Female  "
      ]
     },
     "execution_count": 34,
     "metadata": {},
     "output_type": "execute_result"
    }
   ],
   "source": [
    "# 数据导入\n",
    "dataset = pd.read_csv(r\"D:\\Codes\\data\\gender_classification_v7.csv\")\n",
    "dataset.head()"
   ]
  },
  {
   "cell_type": "code",
   "execution_count": 35,
   "id": "a883956f-4686-46c6-b197-9894494fee16",
   "metadata": {},
   "outputs": [
    {
     "name": "stdout",
     "output_type": "stream",
     "text": [
      "<class 'pandas.core.frame.DataFrame'>\n",
      "RangeIndex: 5001 entries, 0 to 5000\n",
      "Data columns (total 8 columns):\n",
      " #   Column                     Non-Null Count  Dtype  \n",
      "---  ------                     --------------  -----  \n",
      " 0   long_hair                  5001 non-null   int64  \n",
      " 1   forehead_width_cm          5001 non-null   float64\n",
      " 2   forehead_height_cm         5001 non-null   float64\n",
      " 3   nose_wide                  5001 non-null   int64  \n",
      " 4   nose_long                  5001 non-null   int64  \n",
      " 5   lips_thin                  5001 non-null   int64  \n",
      " 6   distance_nose_to_lip_long  5001 non-null   int64  \n",
      " 7   gender                     5001 non-null   object \n",
      "dtypes: float64(2), int64(5), object(1)\n",
      "memory usage: 312.7+ KB\n"
     ]
    }
   ],
   "source": [
    "# 数据清洗\n",
    "dataset.info()"
   ]
  },
  {
   "cell_type": "code",
   "execution_count": 36,
   "id": "5f4c3401-3029-44ac-85d1-361f99c12fe2",
   "metadata": {},
   "outputs": [
    {
     "data": {
      "text/plain": [
       "long_hair                    0\n",
       "forehead_width_cm            0\n",
       "forehead_height_cm           0\n",
       "nose_wide                    0\n",
       "nose_long                    0\n",
       "lips_thin                    0\n",
       "distance_nose_to_lip_long    0\n",
       "gender                       0\n",
       "dtype: int64"
      ]
     },
     "execution_count": 36,
     "metadata": {},
     "output_type": "execute_result"
    }
   ],
   "source": [
    "# 去空\n",
    "dataset.isna().sum()"
   ]
  },
  {
   "cell_type": "code",
   "execution_count": 37,
   "id": "1f4d8b7b-f6e6-43e5-8712-cf55548b2c02",
   "metadata": {},
   "outputs": [
    {
     "data": {
      "text/plain": [
       "1768"
      ]
     },
     "execution_count": 37,
     "metadata": {},
     "output_type": "execute_result"
    }
   ],
   "source": [
    "# 去重\n",
    "dataset.duplicated().sum()"
   ]
  },
  {
   "cell_type": "code",
   "execution_count": 38,
   "id": "adcd1c45-a4d3-4709-a76a-f4bbf25f3ebf",
   "metadata": {},
   "outputs": [
    {
     "data": {
      "text/plain": [
       "0"
      ]
     },
     "execution_count": 38,
     "metadata": {},
     "output_type": "execute_result"
    }
   ],
   "source": [
    "dataset.drop_duplicates(inplace=True)\n",
    "dataset.duplicated().sum()"
   ]
  },
  {
   "cell_type": "code",
   "execution_count": 39,
   "id": "33ab062b-f3f2-45fe-983b-e279aca27b1f",
   "metadata": {},
   "outputs": [
    {
     "data": {
      "text/html": [
       "<div>\n",
       "<style scoped>\n",
       "    .dataframe tbody tr th:only-of-type {\n",
       "        vertical-align: middle;\n",
       "    }\n",
       "\n",
       "    .dataframe tbody tr th {\n",
       "        vertical-align: top;\n",
       "    }\n",
       "\n",
       "    .dataframe thead th {\n",
       "        text-align: right;\n",
       "    }\n",
       "</style>\n",
       "<table border=\"1\" class=\"dataframe\">\n",
       "  <thead>\n",
       "    <tr style=\"text-align: right;\">\n",
       "      <th></th>\n",
       "      <th>long_hair</th>\n",
       "      <th>forehead_width_cm</th>\n",
       "      <th>forehead_height_cm</th>\n",
       "      <th>nose_wide</th>\n",
       "      <th>nose_long</th>\n",
       "      <th>lips_thin</th>\n",
       "      <th>distance_nose_to_lip_long</th>\n",
       "    </tr>\n",
       "  </thead>\n",
       "  <tbody>\n",
       "    <tr>\n",
       "      <th>count</th>\n",
       "      <td>3233.000000</td>\n",
       "      <td>3233.000000</td>\n",
       "      <td>3233.000000</td>\n",
       "      <td>3233.000000</td>\n",
       "      <td>3233.000000</td>\n",
       "      <td>3233.000000</td>\n",
       "      <td>3233.000000</td>\n",
       "    </tr>\n",
       "    <tr>\n",
       "      <th>mean</th>\n",
       "      <td>0.822456</td>\n",
       "      <td>13.217198</td>\n",
       "      <td>5.966038</td>\n",
       "      <td>0.536344</td>\n",
       "      <td>0.557686</td>\n",
       "      <td>0.538509</td>\n",
       "      <td>0.545314</td>\n",
       "    </tr>\n",
       "    <tr>\n",
       "      <th>std</th>\n",
       "      <td>0.382188</td>\n",
       "      <td>1.115993</td>\n",
       "      <td>0.549789</td>\n",
       "      <td>0.498755</td>\n",
       "      <td>0.496738</td>\n",
       "      <td>0.498592</td>\n",
       "      <td>0.498019</td>\n",
       "    </tr>\n",
       "    <tr>\n",
       "      <th>min</th>\n",
       "      <td>0.000000</td>\n",
       "      <td>11.400000</td>\n",
       "      <td>5.100000</td>\n",
       "      <td>0.000000</td>\n",
       "      <td>0.000000</td>\n",
       "      <td>0.000000</td>\n",
       "      <td>0.000000</td>\n",
       "    </tr>\n",
       "    <tr>\n",
       "      <th>25%</th>\n",
       "      <td>1.000000</td>\n",
       "      <td>12.300000</td>\n",
       "      <td>5.500000</td>\n",
       "      <td>0.000000</td>\n",
       "      <td>0.000000</td>\n",
       "      <td>0.000000</td>\n",
       "      <td>0.000000</td>\n",
       "    </tr>\n",
       "    <tr>\n",
       "      <th>50%</th>\n",
       "      <td>1.000000</td>\n",
       "      <td>13.200000</td>\n",
       "      <td>5.900000</td>\n",
       "      <td>1.000000</td>\n",
       "      <td>1.000000</td>\n",
       "      <td>1.000000</td>\n",
       "      <td>1.000000</td>\n",
       "    </tr>\n",
       "    <tr>\n",
       "      <th>75%</th>\n",
       "      <td>1.000000</td>\n",
       "      <td>14.100000</td>\n",
       "      <td>6.400000</td>\n",
       "      <td>1.000000</td>\n",
       "      <td>1.000000</td>\n",
       "      <td>1.000000</td>\n",
       "      <td>1.000000</td>\n",
       "    </tr>\n",
       "    <tr>\n",
       "      <th>max</th>\n",
       "      <td>1.000000</td>\n",
       "      <td>15.500000</td>\n",
       "      <td>7.100000</td>\n",
       "      <td>1.000000</td>\n",
       "      <td>1.000000</td>\n",
       "      <td>1.000000</td>\n",
       "      <td>1.000000</td>\n",
       "    </tr>\n",
       "  </tbody>\n",
       "</table>\n",
       "</div>"
      ],
      "text/plain": [
       "         long_hair  forehead_width_cm  forehead_height_cm    nose_wide  \\\n",
       "count  3233.000000        3233.000000         3233.000000  3233.000000   \n",
       "mean      0.822456          13.217198            5.966038     0.536344   \n",
       "std       0.382188           1.115993            0.549789     0.498755   \n",
       "min       0.000000          11.400000            5.100000     0.000000   \n",
       "25%       1.000000          12.300000            5.500000     0.000000   \n",
       "50%       1.000000          13.200000            5.900000     1.000000   \n",
       "75%       1.000000          14.100000            6.400000     1.000000   \n",
       "max       1.000000          15.500000            7.100000     1.000000   \n",
       "\n",
       "         nose_long    lips_thin  distance_nose_to_lip_long  \n",
       "count  3233.000000  3233.000000                3233.000000  \n",
       "mean      0.557686     0.538509                   0.545314  \n",
       "std       0.496738     0.498592                   0.498019  \n",
       "min       0.000000     0.000000                   0.000000  \n",
       "25%       0.000000     0.000000                   0.000000  \n",
       "50%       1.000000     1.000000                   1.000000  \n",
       "75%       1.000000     1.000000                   1.000000  \n",
       "max       1.000000     1.000000                   1.000000  "
      ]
     },
     "execution_count": 39,
     "metadata": {},
     "output_type": "execute_result"
    }
   ],
   "source": [
    "# 去越界值\n",
    "dataset.describe()"
   ]
  },
  {
   "cell_type": "code",
   "execution_count": 40,
   "id": "8ef9e07c-2612-4cf7-8a31-cac34c4bf41b",
   "metadata": {},
   "outputs": [
    {
     "data": {
      "text/plain": [
       "long_hair                     2\n",
       "forehead_width_cm            42\n",
       "forehead_height_cm           21\n",
       "nose_wide                     2\n",
       "nose_long                     2\n",
       "lips_thin                     2\n",
       "distance_nose_to_lip_long     2\n",
       "gender                        2\n",
       "dtype: int64"
      ]
     },
     "execution_count": 40,
     "metadata": {},
     "output_type": "execute_result"
    }
   ],
   "source": [
    "# 去无用值\n",
    "dataset.nunique()"
   ]
  },
  {
   "cell_type": "code",
   "execution_count": 41,
   "id": "12d968d9-f6b2-45a1-8ecd-b4f448066bf8",
   "metadata": {},
   "outputs": [
    {
     "name": "stdout",
     "output_type": "stream",
     "text": [
      "<class 'pandas.core.frame.DataFrame'>\n",
      "Index: 3233 entries, 0 to 4995\n",
      "Data columns (total 8 columns):\n",
      " #   Column                     Non-Null Count  Dtype  \n",
      "---  ------                     --------------  -----  \n",
      " 0   long_hair                  3233 non-null   int64  \n",
      " 1   forehead_width_cm          3233 non-null   float64\n",
      " 2   forehead_height_cm         3233 non-null   float64\n",
      " 3   nose_wide                  3233 non-null   int64  \n",
      " 4   nose_long                  3233 non-null   int64  \n",
      " 5   lips_thin                  3233 non-null   int64  \n",
      " 6   distance_nose_to_lip_long  3233 non-null   int64  \n",
      " 7   gender                     3233 non-null   object \n",
      "dtypes: float64(2), int64(5), object(1)\n",
      "memory usage: 227.3+ KB\n"
     ]
    }
   ],
   "source": [
    "# 数据预处理\n",
    "from sklearn.preprocessing import StandardScaler, MinMaxScaler\n",
    "from sklearn.model_selection import train_test_split, GridSearchCV\n",
    "from sklearn.utils import resample\n",
    "import pickle\n",
    "data = dataset\n",
    "data.info()"
   ]
  },
  {
   "cell_type": "code",
   "execution_count": 42,
   "id": "15df1661-a284-46de-8114-40d6d742b888",
   "metadata": {},
   "outputs": [
    {
     "name": "stdout",
     "output_type": "stream",
     "text": [
      "<class 'pandas.core.frame.DataFrame'>\n",
      "Index: 3233 entries, 0 to 4995\n",
      "Data columns (total 8 columns):\n",
      " #   Column                     Non-Null Count  Dtype  \n",
      "---  ------                     --------------  -----  \n",
      " 0   long_hair                  3233 non-null   int64  \n",
      " 1   forehead_width_cm          3233 non-null   float64\n",
      " 2   forehead_height_cm         3233 non-null   float64\n",
      " 3   nose_wide                  3233 non-null   int64  \n",
      " 4   nose_long                  3233 non-null   int64  \n",
      " 5   lips_thin                  3233 non-null   int64  \n",
      " 6   distance_nose_to_lip_long  3233 non-null   int64  \n",
      " 7   gender                     3233 non-null   int64  \n",
      "dtypes: float64(2), int64(6)\n",
      "memory usage: 227.3 KB\n"
     ]
    }
   ],
   "source": [
    "# 数值化定类离散数据\n",
    "data['gender'] = data['gender'].map({\n",
    "    'Male': 1,\n",
    "    'Female': 0\n",
    "})\n",
    "data.info()"
   ]
  },
  {
   "cell_type": "code",
   "execution_count": 31,
   "id": "b6908e99-6912-4f4f-852f-8166d40910db",
   "metadata": {},
   "outputs": [
    {
     "data": {
      "text/plain": [
       "<Axes: >"
      ]
     },
     "execution_count": 31,
     "metadata": {},
     "output_type": "execute_result"
    },
    {
     "data": {
      "image/png": "[encoded data removed]",
      "text/plain": [
       "<Figure size 640x480 with 1 Axes>"
      ]
     },
     "metadata": {},
     "output_type": "display_data"
    }
   ],
   "source": [
    "# 查看各维度的分布\n",
    "data['distance_nose_to_lip_long'].hist()"
   ]
  },
  {
   "cell_type": "code",
   "execution_count": 43,
   "id": "b62c793e-de8f-498d-8718-182d5d78af03",
   "metadata": {},
   "outputs": [
    {
     "data": {
      "text/html": [
       "<div>\n",
       "<style scoped>\n",
       "    .dataframe tbody tr th:only-of-type {\n",
       "        vertical-align: middle;\n",
       "    }\n",
       "\n",
       "    .dataframe tbody tr th {\n",
       "        vertical-align: top;\n",
       "    }\n",
       "\n",
       "    .dataframe thead th {\n",
       "        text-align: right;\n",
       "    }\n",
       "</style>\n",
       "<table border=\"1\" class=\"dataframe\">\n",
       "  <thead>\n",
       "    <tr style=\"text-align: right;\">\n",
       "      <th></th>\n",
       "      <th>long_hair</th>\n",
       "      <th>forehead_width_cm</th>\n",
       "      <th>forehead_height_cm</th>\n",
       "      <th>nose_wide</th>\n",
       "      <th>nose_long</th>\n",
       "      <th>lips_thin</th>\n",
       "      <th>distance_nose_to_lip_long</th>\n",
       "      <th>gender</th>\n",
       "    </tr>\n",
       "  </thead>\n",
       "  <tbody>\n",
       "    <tr>\n",
       "      <th>count</th>\n",
       "      <td>3233.000000</td>\n",
       "      <td>3233.000000</td>\n",
       "      <td>3233.000000</td>\n",
       "      <td>3233.000000</td>\n",
       "      <td>3233.000000</td>\n",
       "      <td>3233.000000</td>\n",
       "      <td>3233.000000</td>\n",
       "      <td>3233.000000</td>\n",
       "    </tr>\n",
       "    <tr>\n",
       "      <th>mean</th>\n",
       "      <td>0.822456</td>\n",
       "      <td>0.443219</td>\n",
       "      <td>0.433019</td>\n",
       "      <td>0.536344</td>\n",
       "      <td>0.557686</td>\n",
       "      <td>0.538509</td>\n",
       "      <td>0.545314</td>\n",
       "      <td>0.551500</td>\n",
       "    </tr>\n",
       "    <tr>\n",
       "      <th>std</th>\n",
       "      <td>0.382188</td>\n",
       "      <td>0.272193</td>\n",
       "      <td>0.274895</td>\n",
       "      <td>0.498755</td>\n",
       "      <td>0.496738</td>\n",
       "      <td>0.498592</td>\n",
       "      <td>0.498019</td>\n",
       "      <td>0.497418</td>\n",
       "    </tr>\n",
       "    <tr>\n",
       "      <th>min</th>\n",
       "      <td>0.000000</td>\n",
       "      <td>0.000000</td>\n",
       "      <td>0.000000</td>\n",
       "      <td>0.000000</td>\n",
       "      <td>0.000000</td>\n",
       "      <td>0.000000</td>\n",
       "      <td>0.000000</td>\n",
       "      <td>0.000000</td>\n",
       "    </tr>\n",
       "    <tr>\n",
       "      <th>25%</th>\n",
       "      <td>1.000000</td>\n",
       "      <td>0.219512</td>\n",
       "      <td>0.200000</td>\n",
       "      <td>0.000000</td>\n",
       "      <td>0.000000</td>\n",
       "      <td>0.000000</td>\n",
       "      <td>0.000000</td>\n",
       "      <td>0.000000</td>\n",
       "    </tr>\n",
       "    <tr>\n",
       "      <th>50%</th>\n",
       "      <td>1.000000</td>\n",
       "      <td>0.439024</td>\n",
       "      <td>0.400000</td>\n",
       "      <td>1.000000</td>\n",
       "      <td>1.000000</td>\n",
       "      <td>1.000000</td>\n",
       "      <td>1.000000</td>\n",
       "      <td>1.000000</td>\n",
       "    </tr>\n",
       "    <tr>\n",
       "      <th>75%</th>\n",
       "      <td>1.000000</td>\n",
       "      <td>0.658537</td>\n",
       "      <td>0.650000</td>\n",
       "      <td>1.000000</td>\n",
       "      <td>1.000000</td>\n",
       "      <td>1.000000</td>\n",
       "      <td>1.000000</td>\n",
       "      <td>1.000000</td>\n",
       "    </tr>\n",
       "    <tr>\n",
       "      <th>max</th>\n",
       "      <td>1.000000</td>\n",
       "      <td>1.000000</td>\n",
       "      <td>1.000000</td>\n",
       "      <td>1.000000</td>\n",
       "      <td>1.000000</td>\n",
       "      <td>1.000000</td>\n",
       "      <td>1.000000</td>\n",
       "      <td>1.000000</td>\n",
       "    </tr>\n",
       "  </tbody>\n",
       "</table>\n",
       "</div>"
      ],
      "text/plain": [
       "         long_hair  forehead_width_cm  forehead_height_cm    nose_wide  \\\n",
       "count  3233.000000        3233.000000         3233.000000  3233.000000   \n",
       "mean      0.822456           0.443219            0.433019     0.536344   \n",
       "std       0.382188           0.272193            0.274895     0.498755   \n",
       "min       0.000000           0.000000            0.000000     0.000000   \n",
       "25%       1.000000           0.219512            0.200000     0.000000   \n",
       "50%       1.000000           0.439024            0.400000     1.000000   \n",
       "75%       1.000000           0.658537            0.650000     1.000000   \n",
       "max       1.000000           1.000000            1.000000     1.000000   \n",
       "\n",
       "         nose_long    lips_thin  distance_nose_to_lip_long       gender  \n",
       "count  3233.000000  3233.000000                3233.000000  3233.000000  \n",
       "mean      0.557686     0.538509                   0.545314     0.551500  \n",
       "std       0.496738     0.498592                   0.498019     0.497418  \n",
       "min       0.000000     0.000000                   0.000000     0.000000  \n",
       "25%       0.000000     0.000000                   0.000000     0.000000  \n",
       "50%       1.000000     1.000000                   1.000000     1.000000  \n",
       "75%       1.000000     1.000000                   1.000000     1.000000  \n",
       "max       1.000000     1.000000                   1.000000     1.000000  "
      ]
     },
     "execution_count": 43,
     "metadata": {},
     "output_type": "execute_result"
    }
   ],
   "source": [
    "# 标准化连续数据\n",
    "features_std = []\n",
    "features_minmax = ['forehead_width_cm', 'forehead_height_cm']\n",
    "scaler_minmax = MinMaxScaler()\n",
    "data[features_minmax] = scaler_minmax.fit_transform(data[features_minmax])\n",
    "data.describe()"
   ]
  },
  {
   "cell_type": "code",
   "execution_count": 44,
   "id": "ae38d682-7ff9-4f48-a276-c4e1b802c672",
   "metadata": {},
   "outputs": [
    {
     "data": {
      "text/plain": [
       "((2263, 7), (970, 7), (2263,), (970,))"
      ]
     },
     "execution_count": 44,
     "metadata": {},
     "output_type": "execute_result"
    }
   ],
   "source": [
    "# 分割训练数据集和测试数据集\n",
    "X = data.drop('gender', axis=1)\n",
    "y = data['gender']\n",
    "X_train, X_test, y_train, y_test = train_test_split(X, y, test_size=0.3, stratify=y, random_state=7)\n",
    "X_train.shape, X_test.shape, y_train.shape, y_test.shape"
   ]
  },
  {
   "cell_type": "code",
   "execution_count": 45,
   "id": "e3020450-3e82-42e7-b4ca-ec2ff37626fe",
   "metadata": {},
   "outputs": [
    {
     "data": {
      "text/plain": [
       "((2496, 7), (2496,))"
      ]
     },
     "execution_count": 45,
     "metadata": {},
     "output_type": "execute_result"
    }
   ],
   "source": [
    "# 训练数据集重采样平衡不同标签样本数\n",
    "X0 = X_train[y_train == 0]\n",
    "y0 = y_train[y_train == 0]\n",
    "X1 = X_train[y_train == 1]\n",
    "y1 = y_train[y_train == 1]\n",
    "X0 = resample(X0, n_samples=len(y1), random_state=7)\n",
    "y0 = resample(y0, n_samples=len(y1), random_state=7)\n",
    "X_train = pd.concat([X0, X1])\n",
    "y_train = pd.concat([y0, y1])\n",
    "X_train.shape, y_train.shape"
   ]
  },
  {
   "cell_type": "code",
   "execution_count": 46,
   "id": "5ce9a5db-ee43-40d5-9feb-147697fc863b",
   "metadata": {},
   "outputs": [
    {
     "name": "stdout",
     "output_type": "stream",
     "text": [
      "0------------------------------------------------------------\n",
      "              precision    recall  f1-score   support\n",
      "\n",
      "           0       0.95      0.97      0.96       435\n",
      "           1       0.98      0.96      0.97       535\n",
      "\n",
      "    accuracy                           0.96       970\n",
      "   macro avg       0.96      0.96      0.96       970\n",
      "weighted avg       0.96      0.96      0.96       970\n",
      "\n",
      "1------------------------------------------------------------\n",
      "              precision    recall  f1-score   support\n",
      "\n",
      "           0       0.92      0.95      0.93       435\n",
      "           1       0.96      0.93      0.95       535\n",
      "\n",
      "    accuracy                           0.94       970\n",
      "   macro avg       0.94      0.94      0.94       970\n",
      "weighted avg       0.94      0.94      0.94       970\n",
      "\n",
      "2------------------------------------------------------------\n",
      "              precision    recall  f1-score   support\n",
      "\n",
      "           0       0.95      0.93      0.94       435\n",
      "           1       0.95      0.96      0.95       535\n",
      "\n",
      "    accuracy                           0.95       970\n",
      "   macro avg       0.95      0.95      0.95       970\n",
      "weighted avg       0.95      0.95      0.95       970\n",
      "\n",
      "3------------------------------------------------------------\n",
      "              precision    recall  f1-score   support\n",
      "\n",
      "           0       0.93      0.94      0.93       435\n",
      "           1       0.95      0.94      0.95       535\n",
      "\n",
      "    accuracy                           0.94       970\n",
      "   macro avg       0.94      0.94      0.94       970\n",
      "weighted avg       0.94      0.94      0.94       970\n",
      "\n",
      "4------------------------------------------------------------\n",
      "              precision    recall  f1-score   support\n",
      "\n",
      "           0       0.94      0.91      0.93       435\n",
      "           1       0.93      0.95      0.94       535\n",
      "\n",
      "    accuracy                           0.93       970\n",
      "   macro avg       0.93      0.93      0.93       970\n",
      "weighted avg       0.93      0.93      0.93       970\n",
      "\n",
      "5------------------------------------------------------------\n",
      "              precision    recall  f1-score   support\n",
      "\n",
      "           0       0.96      0.94      0.95       435\n",
      "           1       0.95      0.96      0.96       535\n",
      "\n",
      "    accuracy                           0.95       970\n",
      "   macro avg       0.95      0.95      0.95       970\n",
      "weighted avg       0.95      0.95      0.95       970\n",
      "\n",
      "6------------------------------------------------------------\n",
      "              precision    recall  f1-score   support\n",
      "\n",
      "           0       0.95      0.91      0.93       435\n",
      "           1       0.93      0.96      0.95       535\n",
      "\n",
      "    accuracy                           0.94       970\n",
      "   macro avg       0.94      0.94      0.94       970\n",
      "weighted avg       0.94      0.94      0.94       970\n",
      "\n"
     ]
    }
   ],
   "source": [
    "# 数据建模\n",
    "# 分类模型选择\n",
    "from sklearn.naive_bayes import GaussianNB\n",
    "from sklearn.neighbors import KNeighborsClassifier\n",
    "from sklearn.linear_model import LogisticRegression\n",
    "from sklearn.svm import SVC\n",
    "from sklearn.tree import DecisionTreeClassifier\n",
    "from sklearn.ensemble import RandomForestClassifier\n",
    "from xgboost import XGBClassifier\n",
    "from sklearn.metrics import classification_report, confusion_matrix, roc_curve, auc\n",
    "\n",
    "clfs = [\n",
    "    GaussianNB(),\n",
    "    KNeighborsClassifier(n_neighbors=13),\n",
    "    LogisticRegression(random_state=7),\n",
    "    SVC(random_state=7, probability=True),\n",
    "    DecisionTreeClassifier(random_state=7),\n",
    "    RandomForestClassifier(random_state=7),\n",
    "    XGBClassifier(),\n",
    "]\n",
    "\n",
    "for i, clf in enumerate(clfs):\n",
    "    clf.fit(X_train, y_train)\n",
    "    y_pred = clf.predict(X_test)\n",
    "    print(str(i)+'-'*60)\n",
    "    class_report = classification_report(y_test, y_pred)\n",
    "    print(class_report)"
   ]
  },
  {
   "cell_type": "code",
   "execution_count": 74,
   "id": "c7f58a80-93e0-49e4-a2f7-44d1c93d533c",
   "metadata": {},
   "outputs": [
    {
     "name": "stdout",
     "output_type": "stream",
     "text": [
      "Fitting 5 folds for each of 24 candidates, totalling 120 fits\n",
      "Best parameters found: {'algorithm': 'ball_tree', 'n_neighbors': 15, 'weights': 'distance'}\n"
     ]
    }
   ],
   "source": [
    "# # 模型优化\n",
    "# param_grid = {\n",
    "#     'n_neighbors': [9, 13, 15],\n",
    "#     'weights': ['uniform', 'distance'],\n",
    "#     'algorithm': ['auto', 'ball_tree', 'kd_tree', 'brute'],\n",
    "# }\n",
    "\n",
    "# clf = GaussianNB()\n",
    "# grid_search = GridSearchCV(estimator=clf, param_grid=param_grid, cv=5, n_jobs=-1, verbose=1)\n",
    "# grid_search.fit(X_train, y_train)\n",
    "# print('Best parameters found:', grid_search.best_params_)"
   ]
  },
  {
   "cell_type": "code",
   "execution_count": 47,
   "id": "4a8acf09-cd9d-475d-901a-2eb64ca3bace",
   "metadata": {},
   "outputs": [],
   "source": [
    "# clf_best = grid_search.best_estimator_\n",
    "clf_best = GaussianNB()\n",
    "clf_best.fit(X_train, y_train)\n",
    "y_pred = clf_best.predict(X_test)"
   ]
  },
  {
   "cell_type": "code",
   "execution_count": 48,
   "id": "934233ec-4391-4287-af57-8ba3f9e5c1c3",
   "metadata": {},
   "outputs": [
    {
     "name": "stdout",
     "output_type": "stream",
     "text": [
      "              precision    recall  f1-score   support\n",
      "\n",
      "           0       0.95      0.97      0.96       435\n",
      "           1       0.98      0.96      0.97       535\n",
      "\n",
      "    accuracy                           0.96       970\n",
      "   macro avg       0.96      0.96      0.96       970\n",
      "weighted avg       0.96      0.96      0.96       970\n",
      "\n"
     ]
    }
   ],
   "source": [
    "# 模型评估\n",
    "# acc precision recall f1\n",
    "class_report = classification_report(y_test, y_pred)\n",
    "print(class_report)"
   ]
  },
  {
   "cell_type": "code",
   "execution_count": 49,
   "id": "d94cdd83-e2f5-460c-a5d2-a7ebd7093cb4",
   "metadata": {},
   "outputs": [
    {
     "data": {
      "image/png": "[encoded data removed]",
      "text/plain": [
       "<Figure size 800x600 with 2 Axes>"
      ]
     },
     "metadata": {},
     "output_type": "display_data"
    }
   ],
   "source": [
    "# confusion matrix\n",
    "cm = confusion_matrix(y_test, y_pred)\n",
    "\n",
    "plt.figure(figsize=(8,6))\n",
    "sns.heatmap(cm, annot=True, fmt='g', cmap='Blues', \n",
    "            xticklabels=['Predicted 0', 'Predicted 1'], \n",
    "            yticklabels=['Actual 0', 'Actual 1'])\n",
    "plt.title('Confusion Matrix for Random Forest Model')\n",
    "plt.show()"
   ]
  },
  {
   "cell_type": "code",
   "execution_count": 50,
   "id": "4ded2b4a-238d-4c8b-b22f-58d93c97956d",
   "metadata": {},
   "outputs": [
    {
     "data": {
      "image/png": "[encoded data removed]",
      "text/plain": [
       "<Figure size 800x600 with 1 Axes>"
      ]
     },
     "metadata": {},
     "output_type": "display_data"
    }
   ],
   "source": [
    "# roc曲线 auc\n",
    "fpr, tpr, _ = roc_curve(y_test, clf_best.predict_proba(X_test)[:, 1])\n",
    "roc_auc = auc(fpr, tpr)\n",
    "\n",
    "plt.figure(figsize=(8, 6))\n",
    "plt.plot(fpr, tpr, color='darkorange', lw=2, label='ROC curve (area = %0.2f)' % roc_auc)\n",
    "plt.plot([0, 1], [0, 1], color='navy', lw=2, linestyle='--')\n",
    "plt.xlabel('False Positive Rate')\n",
    "plt.ylabel('True Positive Rate')\n",
    "plt.title('Receiver Operating Characteristic (ROC) Curve for Random Forest')\n",
    "plt.legend(loc=\"lower right\")\n",
    "plt.show()"
   ]
  },
  {
   "cell_type": "code",
   "execution_count": 51,
   "id": "025cdba8-9101-4243-a247-60706cc86bbc",
   "metadata": {},
   "outputs": [],
   "source": [
    "# 模型保存\n",
    "with open('model.pkl', 'wb') as f:\n",
    "    pickle.dump(clf_best, f)"
   ]
  }
 ],
 "metadata": {
  "kernelspec": {
   "display_name": "Python 3 (ipykernel)",
   "language": "python",
   "name": "python3"
  },
  "language_info": {
   "codemirror_mode": {
    "name": "ipython",
    "version": 3
   },
   "file_extension": ".py",
   "mimetype": "text/x-python",
   "name": "python",
   "nbconvert_exporter": "python",
   "pygments_lexer": "ipython3",
   "version": "3.10.13"
  }
 },
 "nbformat": 4,
 "nbformat_minor": 5
}
